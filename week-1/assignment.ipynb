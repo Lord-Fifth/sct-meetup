{
 "cells": [
  {
   "cell_type": "markdown",
   "metadata": {},
   "source": [
    "### Assignment - Intro to Python and Data Structures\n",
    "The assignment is for students to get a feel of the lesson discussed this week. You are free to ask any doubts regarding working out any questions in the group. Also, updating the worked out notebook on Github is very much engaged, be sure to mention School of AI, Trivandrum. Additional recognition for students who document the work using *markdown*."
   ]
  },
  {
   "cell_type": "markdown",
   "metadata": {},
   "source": [
    "##### 1) Read the contents of test.csv "
   ]
  },
  {
   "cell_type": "markdown",
   "metadata": {},
   "source": [
    "#### 1.1 Getting the contents and printing it\n",
    "Once `open()` we specify the file url(if in a different folder) and get the contents using **read()** function. With this we print and get all contents of the csv file."
   ]
  },
  {
   "cell_type": "code",
   "execution_count": 1,
   "metadata": {},
   "outputs": [
    {
     "name": "stdout",
     "output_type": "stream",
     "text": [
      "Loan_ID,Gender,Married,Education,ApplicantIncome,LoanAmount,Property_Area\n",
      "LP001015,Male,Yes,Graduate,5720,110,Urban\n",
      "LP001022,Male,Yes,Graduate,3076,126,Urban\n",
      "LP001031,Male,Yes,Graduate,5000,208,Urban\n",
      "LP001035,Male,Yes,Graduate,2340,100,Urban\n",
      "LP001051,Male,No,Not Graduate,3276,78,Urban\n",
      "LP001054,Male,Yes,Not Graduate,2165,152,Urban\n",
      "LP001055,Female,No,Not Graduate,2226,59,Semiurban\n",
      "LP001056,Male,Yes,Not Graduate,3881,147,Rural\n",
      "LP001059,Male,Yes,Graduate,13633,280,Urban\n",
      "LP001067,Male,No,Not Graduate,2400,123,Semiurban\n",
      "LP001078,Male,No,Not Graduate,3091,90,Urban\n",
      "LP001082,Male,Yes,Graduate,2185,162,Semiurban\n",
      "LP001083,Male,No,Graduate,4166,40,Urban\n",
      "LP001094,Male,Yes,Graduate,12173,166,Semiurban\n",
      "LP001096,Female,No,Graduate,4666,124,Semiurban\n",
      "LP001099,Male,No,Graduate,5667,131,Urban\n"
     ]
    }
   ],
   "source": [
    "file = open('Data/test.csv', 'r')\n",
    "data = file.read()\n",
    "#file.close() is optional\n",
    "print(data)"
   ]
  },
  {
   "cell_type": "markdown",
   "metadata": {},
   "source": [
    "#### 1.2 Storing data as a Dictionary\n",
    "This step is done so as that we can perform successive calculations on data easier if it is in the form of key-value pairs."
   ]
  },
  {
   "cell_type": "code",
   "execution_count": 2,
   "metadata": {},
   "outputs": [],
   "source": [
    "#Empty dict for storing data\n",
    "dictionary_data = {}"
   ]
  },
  {
   "cell_type": "markdown",
   "metadata": {},
   "source": [
    "#### 1.2.1 Initialise keys as Header row\n",
    "**split()** function is used so that we first split the unstructured data into rows with `\\n` delimiter. After this each row is split using `,` as delimiter. "
   ]
  },
  {
   "cell_type": "code",
   "execution_count": 3,
   "metadata": {},
   "outputs": [],
   "source": [
    "#Header row\n",
    "headings = data.split('\\n',1)[0].split(',')    \n",
    "\n",
    "for heading in headings:\n",
    "  dictionary_data[heading] = []"
   ]
  },
  {
   "cell_type": "markdown",
   "metadata": {},
   "source": [
    "#### 1.2.2 Initialise values as rest of data fields\n",
    "As `split()` was carried out in header then implemented in the rest of the values.\n",
    "With that we finally get the csv contents as dictionary values."
   ]
  },
  {
   "cell_type": "code",
   "execution_count": 4,
   "metadata": {},
   "outputs": [
    {
     "name": "stdout",
     "output_type": "stream",
     "text": [
      "{'Loan_ID': ['LP001015', 'LP001022', 'LP001031', 'LP001035', 'LP001051', 'LP001054', 'LP001055', 'LP001056', 'LP001059', 'LP001067', 'LP001078', 'LP001082', 'LP001083', 'LP001094', 'LP001096', 'LP001099'], 'Gender': ['Male', 'Male', 'Male', 'Male', 'Male', 'Male', 'Female', 'Male', 'Male', 'Male', 'Male', 'Male', 'Male', 'Male', 'Female', 'Male'], 'Married': ['Yes', 'Yes', 'Yes', 'Yes', 'No', 'Yes', 'No', 'Yes', 'Yes', 'No', 'No', 'Yes', 'No', 'Yes', 'No', 'No'], 'Education': ['Graduate', 'Graduate', 'Graduate', 'Graduate', 'Not Graduate', 'Not Graduate', 'Not Graduate', 'Not Graduate', 'Graduate', 'Not Graduate', 'Not Graduate', 'Graduate', 'Graduate', 'Graduate', 'Graduate', 'Graduate'], 'ApplicantIncome': ['5720', '3076', '5000', '2340', '3276', '2165', '2226', '3881', '13633', '2400', '3091', '2185', '4166', '12173', '4666', '5667'], 'LoanAmount': ['110', '126', '208', '100', '78', '152', '59', '147', '280', '123', '90', '162', '40', '166', '124', '131'], 'Property_Area': ['Urban', 'Urban', 'Urban', 'Urban', 'Urban', 'Urban', 'Semiurban', 'Rural', 'Urban', 'Semiurban', 'Urban', 'Semiurban', 'Urban', 'Semiurban', 'Semiurban', 'Urban']}\n"
     ]
    }
   ],
   "source": [
    "#Getting rows excluding header row  \n",
    "for row in data.split('\\n',1)[1].split('\\n'):   \n",
    "  row_contents = row.split(',')  #Data fields\n",
    "\n",
    "  #Append fields to respective dictionary keys\n",
    "  for i in range(len(row_contents)):\n",
    "    dictionary_data[headings[i]].append(row_contents[i])   \n",
    "    \n",
    "#Display the final contents in key-value pairs.\n",
    "print(dictionary_data)"
   ]
  },
  {
   "cell_type": "markdown",
   "metadata": {},
   "source": [
    "##### 2) Replace the *Graduate* and *Not Graduate* in the Education column by 1 and 0 respectively"
   ]
  },
  {
   "cell_type": "markdown",
   "metadata": {},
   "source": [
    "#### 2.1 Replacing instances in Education key\n",
    "By iterating through the values of `Education`, we replace all instances of Graduate and Not Graduate with 1 and 0 respectively."
   ]
  },
  {
   "cell_type": "code",
   "execution_count": 5,
   "metadata": {},
   "outputs": [
    {
     "name": "stdout",
     "output_type": "stream",
     "text": [
      "{'Loan_ID': ['LP001015', 'LP001022', 'LP001031', 'LP001035', 'LP001051', 'LP001054', 'LP001055', 'LP001056', 'LP001059', 'LP001067', 'LP001078', 'LP001082', 'LP001083', 'LP001094', 'LP001096', 'LP001099'], 'Gender': ['Male', 'Male', 'Male', 'Male', 'Male', 'Male', 'Female', 'Male', 'Male', 'Male', 'Male', 'Male', 'Male', 'Male', 'Female', 'Male'], 'Married': ['Yes', 'Yes', 'Yes', 'Yes', 'No', 'Yes', 'No', 'Yes', 'Yes', 'No', 'No', 'Yes', 'No', 'Yes', 'No', 'No'], 'Education': [1, 1, 1, 1, 0, 0, 0, 0, 1, 0, 0, 1, 1, 1, 1, 1], 'ApplicantIncome': ['5720', '3076', '5000', '2340', '3276', '2165', '2226', '3881', '13633', '2400', '3091', '2185', '4166', '12173', '4666', '5667'], 'LoanAmount': ['110', '126', '208', '100', '78', '152', '59', '147', '280', '123', '90', '162', '40', '166', '124', '131'], 'Property_Area': ['Urban', 'Urban', 'Urban', 'Urban', 'Urban', 'Urban', 'Semiurban', 'Rural', 'Urban', 'Semiurban', 'Urban', 'Semiurban', 'Urban', 'Semiurban', 'Semiurban', 'Urban']}\n"
     ]
    }
   ],
   "source": [
    "for i in range(len(dictionary_data['Education'])):\n",
    "  dictionary_data['Education'][i] = 1 if dictionary_data['Education'][i] == 'Graduate' else 0\n",
    "\n",
    "print(dictionary_data)"
   ]
  },
  {
   "cell_type": "markdown",
   "metadata": {},
   "source": [
    "##### 3) Find the minimum and maximum value of *Loan Amount*. Also calculate the mean *Loan Amount*\n"
   ]
  },
  {
   "cell_type": "markdown",
   "metadata": {},
   "source": [
    "#### 3.1 Loan List is created from the dictionary\n",
    "`LoanAmount` is extracted into a list which is in int datatype so as to facilitate calculations."
   ]
  },
  {
   "cell_type": "code",
   "execution_count": 6,
   "metadata": {},
   "outputs": [],
   "source": [
    "#LoanAmount needs to be in int for numerical operations\n",
    "LoanAmounts = [int(LoanAmount) for LoanAmount in dictionary_data['LoanAmount']] "
   ]
  },
  {
   "cell_type": "markdown",
   "metadata": {},
   "source": [
    "#### 3.2 Minimum and Maximum Loan calculation\n",
    "Using `min()` and `max()` functions."
   ]
  },
  {
   "cell_type": "code",
   "execution_count": 7,
   "metadata": {},
   "outputs": [
    {
     "name": "stdout",
     "output_type": "stream",
     "text": [
      "Minimum Loan: 40\n",
      "Maximum Loan: 280\n"
     ]
    }
   ],
   "source": [
    "min_loan = min(LoanAmounts) \n",
    "print('Minimum Loan: ' + str(min_loan))\n",
    "max_loan = max(LoanAmounts)\n",
    "print('Maximum Loan: ' + str(max_loan))"
   ]
  },
  {
   "cell_type": "markdown",
   "metadata": {},
   "source": [
    "#### 3.3 Mean Loan calculation\n",
    "We sum up all the values in the list and take its average."
   ]
  },
  {
   "cell_type": "code",
   "execution_count": 8,
   "metadata": {},
   "outputs": [
    {
     "name": "stdout",
     "output_type": "stream",
     "text": [
      "Mean Amount: 131.0\n"
     ]
    }
   ],
   "source": [
    "mean_loan = sum(LoanAmounts)/len(LoanAmounts)\n",
    "print('Mean Amount: ' + str(mean_loan))"
   ]
  }
 ],
 "metadata": {
  "kernelspec": {
   "display_name": "Python 3",
   "language": "python",
   "name": "python3"
  },
  "language_info": {
   "codemirror_mode": {
    "name": "ipython",
    "version": 3
   },
   "file_extension": ".py",
   "mimetype": "text/x-python",
   "name": "python",
   "nbconvert_exporter": "python",
   "pygments_lexer": "ipython3",
   "version": "3.7.1"
  }
 },
 "nbformat": 4,
 "nbformat_minor": 2
}
